{
 "cells": [
  {
   "cell_type": "code",
   "execution_count": 174,
   "metadata": {},
   "outputs": [],
   "source": [
    "# TODO: use `order_no` var"
   ]
  },
  {
   "cell_type": "code",
   "execution_count": 175,
   "metadata": {},
   "outputs": [],
   "source": [
    "import pandas as pd\n",
    "from services import get_engine\n",
    "import graphviz\n",
    "import numpy as np\n",
    "import math\n",
    "\n",
    "pd.options.display.max_columns = None"
   ]
  },
  {
   "cell_type": "code",
   "execution_count": 176,
   "metadata": {},
   "outputs": [
    {
     "name": "stdout",
     "output_type": "stream",
     "text": [
      "Connected to bi@prod_unf.\n"
     ]
    }
   ],
   "source": [
    "engine_unf = get_engine(fname='../credentials/.prod_unf')"
   ]
  },
  {
   "cell_type": "code",
   "execution_count": 177,
   "metadata": {},
   "outputs": [
    {
     "name": "stdout",
     "output_type": "stream",
     "text": [
      "Connected to Analytics_root@PROD_ANALYTICS.\n"
     ]
    }
   ],
   "source": [
    "engine_analytics = get_engine(fname='../credentials/.server_analytics')"
   ]
  },
  {
   "cell_type": "code",
   "execution_count": 178,
   "metadata": {},
   "outputs": [],
   "source": [
    "order_params_query = '''\n",
    "SELECT\n",
    "    CAST(DATEADD([YEAR], -2000, orders._Fld16402) AS date) AS calcDate, \n",
    "    price_types.[_Description] AS priceType,\n",
    "    CAST(price_types.[_IDRRef] AS uniqueidentifier) AS priceTypeId\n",
    "FROM\n",
    "    _Document164X1 AS orders\n",
    "    LEFT JOIN _InfoRg16413 as numbers on numbers._Fld16426RRef = orders._idrref\n",
    "    LEFT JOIN _Reference36 AS price_types ON price_types._IDRRef = orders._Fld3599RRef\n",
    "WHERE \n",
    "    numbers._Fld16427 LIKE '13925/13/%'\n",
    "'''\n",
    "\n",
    "order_params = pd.read_sql(order_params_query, engine_unf)\n",
    "calc_date = order_params.calcDate.values[0]\n",
    "price_type_id = order_params.priceTypeId.values[0]\n",
    "price_type = order_params.priceType.values[0]"
   ]
  },
  {
   "cell_type": "code",
   "execution_count": 179,
   "metadata": {},
   "outputs": [],
   "source": [
    "order_query = '''\n",
    "-- earned value report.sql\n",
    "-- get order\n",
    "SELECT\n",
    "    order_tbl._LineNo3639 AS orderRowNo\n",
    "    , order_tbl._Fld35933 AS stage\n",
    "    , room._Description AS room\n",
    "    , tech._Description AS tech\n",
    "    , spec._Description AS spec\n",
    "    , CAST(spec._IDRRef AS uniqueidentifier) AS specId\n",
    "    , item._Description AS item\n",
    "    , CAST(item._IDRRef AS uniqueidentifier) AS itemId\n",
    "    , order_tbl._Fld3644 AS qty\n",
    "    , batch._Description AS batch\n",
    "    , CAST(batch._IDRRef AS uniqueidentifier) AS batchId\n",
    "FROM \n",
    "    _Document164X1 orders\n",
    "    LEFT JOIN _InfoRg16413 AS numbers ON numbers._Fld16426RRef = orders._IDRRef\n",
    "    LEFT JOIN _Document164_VT3638X1 AS order_tbl \n",
    "        ON order_tbl._Document164_IDRRef = orders._IDRRef\n",
    "    LEFT JOIN _Reference76 AS item ON item._IDRRef = order_tbl._Fld3640RRef\n",
    "    LEFT JOIN _Reference79 as tech ON item._Fld1533RRef = tech._IDRRef\n",
    "    LEFT JOIN _Reference16143 AS room ON room._IDRRef = order_tbl._Fld16181RRef\n",
    "    LEFT JOIN _Reference89 AS batch ON batch._IDRRef = order_tbl._Fld3643RRef\n",
    "    LEFT JOIN _Reference16144 AS spec ON order_tbl._Fld16182RRef = spec._IDRRef\n",
    "WHERE\n",
    "    numbers._Fld16427 LIKE '13925/13/%'     -- номерЗП\n",
    "    ORDER BY\n",
    "        order_tbl._LineNo3639\n",
    "'''\n",
    "\n",
    "order = pd.read_sql(order_query, engine_unf)\n",
    "order.orderRowNo = order.orderRowNo.astype(int)"
   ]
  },
  {
   "cell_type": "markdown",
   "metadata": {},
   "source": [
    "# Production Orders"
   ]
  },
  {
   "cell_type": "code",
   "execution_count": 180,
   "metadata": {},
   "outputs": [],
   "source": [
    "# list production orders based on the customer order\n",
    "# including deleted and not posted prod orders to find all subordinated documents\n",
    "# even if they are subordinated to invalidated ones\n",
    "prods_query_base = '''\n",
    "-- earned value report.sql\n",
    "-- get prod orders    \n",
    "SELECT CAST(prod._IDRRef AS uniqueidentifier) AS prodId,\n",
    "    prod._Number AS prodNo,\n",
    "    status._Description AS prodStatus,\n",
    "    item._Description AS item,\n",
    "    batch._Description AS batch,\n",
    "    CAST(batch._IDRRef AS uniqueidentifier) AS batchId,\n",
    "    tech.[_Description] AS tech,\n",
    "    owner._Description AS owner,\n",
    "    CAST(owner._IDRRef AS uniqueidentifier) AS ownerId,\n",
    "    parent_prod.[_Number] AS parentProdNo,\n",
    "    CAST(parent_prod.[_IDRRef] AS uniqueidentifier) AS parentProdId,\n",
    "    parent_item.[_Description] AS parentItem,\n",
    "    parent_tech.[_Description] AS parentTech,\n",
    "    parent_batch.[_Description] AS parentBatch,\n",
    "    CAST(parent_batch._IDRRef AS uniqueidentifier) AS parentBatchId,\n",
    "    CAST(prod._Marked AS int) AS deleted,\n",
    "    CAST(prod._Posted AS int) AS posted\n",
    "FROM _Document163 AS prod\n",
    "    LEFT JOIN _Reference117 AS status ON prod._Fld3556RRef = status._IDRRef\n",
    "    LEFT JOIN _Document164X1 AS ordr ON ordr.[_IDRRef] = prod.[_Fld3543RRef]\n",
    "    LEFT JOIN _InfoRg16413 AS ordr_no ON ordr_no._Fld16426RRef = ordr.[_IDRRef]\n",
    "    LEFT JOIN _Document163_VT3562 AS prod_tbl ON prod._IDRRef = prod_tbl._Document163_IDRRef\n",
    "    LEFT JOIN _Reference76 AS item ON item._IDRRef = prod_tbl._Fld3564RRef\n",
    "    LEFT JOIN _Reference76 AS owner ON owner._IDRRef = prod_tbl._Fld33461RRef\n",
    "    LEFT JOIN _Reference89 AS batch ON batch._IDRRef = prod_tbl._Fld16259RRef\n",
    "    LEFT JOIN _Reference79 as tech ON item._Fld1533RRef = tech._IDRRef\n",
    "    LEFT JOIN _Document163 AS parent_prod ON parent_prod.[_IDRRef] = prod._Fld3555RRef\n",
    "    LEFT JOIN _Document163_VT3562 AS parent_prod_tbl ON parent_prod._IDRRef = parent_prod_tbl._Document163_IDRRef\n",
    "    LEFT JOIN _Reference89 AS parent_batch ON parent_batch._IDRRef = parent_prod_tbl._Fld16259RRef\n",
    "    LEFT JOIN _Reference76 AS parent_item ON parent_item._IDRRef = parent_prod_tbl._Fld3564RRef\n",
    "    LEFT JOIN _Reference79 as parent_tech ON parent_item._Fld1533RRef = parent_tech._IDRRef\n",
    "-- need to find all job tickets, not only subordinated to posted prod orders\n",
    "-- WHERE CAST(prod._Posted AS int) = 1  \n",
    "\n",
    "'''\n",
    "prods_query0 = prods_query_base + \"WHERE ordr_no._Fld16427 LIKE '13925/13/%'\"\n",
    "\n",
    "prods = pd.read_sql(prods_query0, engine_unf)"
   ]
  },
  {
   "cell_type": "code",
   "execution_count": 181,
   "metadata": {},
   "outputs": [],
   "source": [
    "# list production orders based on other production orders and not directly based on customer order\n",
    "def get_all_prods(prods0: pd.DataFrame) -> pd.DataFrame:\n",
    "    parent_prod_ids = \"', '\".join(prods0.prodId)\n",
    "    prods_query1 = prods_query_base + f\"\"\"\n",
    "        -- based on parent prods\n",
    "        WHERE CAST(parent_prod._IDRRef AS uniqueidentifier) IN ('{parent_prod_ids}')  \n",
    "        -- not already listed as parent prods. \n",
    "        -- TODO: excessive?\n",
    "        AND CAST(prod._IDRRef AS uniqueidentifier) NOT IN ('{parent_prod_ids}')     \n",
    "    \"\"\"\n",
    "    new_prods = pd.read_sql(prods_query1, engine_unf)\n",
    "    if len(new_prods) == 0:\n",
    "        return pd.DataFrame(columns=prods0.columns)\n",
    "\n",
    "    return pd.concat([new_prods, get_all_prods(new_prods)])\n",
    "\n",
    "parent_prod_ids = \"', '\".join(prods.prodId)\n",
    "prods = pd.concat([prods, get_all_prods(prods)])"
   ]
  },
  {
   "cell_type": "code",
   "execution_count": 182,
   "metadata": {},
   "outputs": [],
   "source": [
    "prods =prods.merge(\n",
    "        order[order.batchId.notnull()][['batchId', 'item', 'orderRowNo', 'spec', 'specId']], \n",
    "        how='left',\n",
    "        on=['item', 'batchId'],\n",
    "        suffixes=('', '_')\n",
    ")"
   ]
  },
  {
   "cell_type": "code",
   "execution_count": 183,
   "metadata": {},
   "outputs": [],
   "source": [
    "prods = prods.merge(\n",
    "        order[order.batchId.notnull()][['batchId', 'item', 'orderRowNo', 'spec', 'specId']], \n",
    "        how='left',\n",
    "        left_on=['parentItem', 'parentBatchId'],\n",
    "        right_on=['item', 'batchId'],\n",
    "        suffixes=('', '_parent')\n",
    ")\n",
    "prods.drop(columns='batchId_parent', inplace=True)"
   ]
  },
  {
   "cell_type": "code",
   "execution_count": 184,
   "metadata": {},
   "outputs": [],
   "source": [
    "prods = prods[[\n",
    "    'prodId',\n",
    "    'prodNo',\n",
    "    'prodStatus',\n",
    "    'deleted',\n",
    "    'posted',\n",
    "    'item',\n",
    "    'batch',\n",
    "    'batchId',\n",
    "    'tech',\n",
    "    'orderRowNo',\n",
    "    'spec',\n",
    "    'specId',\n",
    "    'owner',\n",
    "    'ownerId',\n",
    "    'parentProdNo',\n",
    "    'parentProdId',\n",
    "    'parentItem',\n",
    "    'parentTech',\n",
    "    'parentBatch',\n",
    "    'parentBatchId',\n",
    "    'item_parent',\n",
    "    'orderRowNo_parent',\n",
    "    'specId_parent',\n",
    "    'spec_parent'\n",
    "    ]]"
   ]
  },
  {
   "cell_type": "code",
   "execution_count": 185,
   "metadata": {},
   "outputs": [],
   "source": [
    "# шаблон не должен подчиняться протяжке\n",
    "parent_cols = [\n",
    "    'parentProdNo',\n",
    "    'parentProdId',\n",
    "    'parentItem',\n",
    "    'parentBatch',\n",
    "    'parentBatchId',\n",
    "    'item_parent',\n",
    "    'orderRowNo_parent',\n",
    "    'spec_parent',\n",
    "    'parentTech'\n",
    "]\n",
    "\n",
    "for col in parent_cols:\n",
    "    prods[col] = prods.apply(\n",
    "        lambda r: None if r.tech=='Шаблон' and r.parentTech=='Протяжка'\n",
    "        else r[col] \n",
    "        , axis=1\n",
    "    )"
   ]
  },
  {
   "cell_type": "code",
   "execution_count": 186,
   "metadata": {},
   "outputs": [],
   "source": [
    "# верхние ЗНП МФР выводятся из под тиража\n",
    "for col in parent_cols:\n",
    "    prods[col] = prods.apply(\n",
    "        lambda r: \n",
    "        None if r.tech in ['Модельные работы', 'Формовочные работы'] \n",
    "                and r.parentTech=='Фиброгипс'\n",
    "        else r[col] \n",
    "        , axis=1\n",
    "    )"
   ]
  },
  {
   "cell_type": "code",
   "execution_count": 187,
   "metadata": {},
   "outputs": [],
   "source": [
    "# shall be empty\n",
    "# if there is no parent then there shall be a `orderRowNo`\n",
    "fill_row_nos = prods[(prods.parentItem.isnull()) & (prods.orderRowNo.isnull())]    "
   ]
  },
  {
   "cell_type": "code",
   "execution_count": 188,
   "metadata": {},
   "outputs": [],
   "source": [
    "# fill missing orderRowNo\n",
    "for i, row in fill_row_nos.iterrows():\n",
    "    subset = order[(order.spec==row.owner) & (order.tech==row.tech)]\n",
    "    if len(subset) != 1:\n",
    "        print(f'Cannot match order row for prod {row.prodNo} {row[\"item\"]}')\n",
    "        continue\n",
    "    prods.at[i, 'orderRowNo'] = subset.orderRowNo.values[0]\n",
    "    prods.at[i, 'spec'] = subset.spec.values[0]"
   ]
  },
  {
   "cell_type": "code",
   "execution_count": 189,
   "metadata": {},
   "outputs": [
    {
     "data": {
      "text/plain": [
       "array(['Фиброгипс'], dtype=object)"
      ]
     },
     "execution_count": 189,
     "metadata": {},
     "output_type": "execute_result"
    }
   ],
   "source": [
    "prods[(prods.parentItem.notnull()) & (prods.orderRowNo.notnull())].tech.unique()    # shall be `Фиброгипс` only"
   ]
  },
  {
   "cell_type": "code",
   "execution_count": 190,
   "metadata": {},
   "outputs": [],
   "source": [
    "prod_status_codes = {\n",
    "    'В очереди на производство': 1,\n",
    "    'В работе': 2,\n",
    "    'На стеллажах': 3,\n",
    "    'Отгружен': 4,\n",
    "    'Завершен': 5,\n",
    "    'В ремонте': 1\n",
    "}"
   ]
  },
  {
   "cell_type": "code",
   "execution_count": 191,
   "metadata": {},
   "outputs": [],
   "source": [
    "prod_status_codes_reverse = {v: k for k, v in prod_status_codes.items() \n",
    "                            if k!='В ремонте'}"
   ]
  },
  {
   "cell_type": "code",
   "execution_count": 192,
   "metadata": {},
   "outputs": [],
   "source": [
    "prods['prodStatusCode'] = prods.prodStatus.map(prod_status_codes)"
   ]
  },
  {
   "cell_type": "markdown",
   "metadata": {},
   "source": [
    "# Get budget"
   ]
  },
  {
   "cell_type": "markdown",
   "metadata": {},
   "source": [
    "Which rate is used to arrive at the price an order is sold?"
   ]
  },
  {
   "cell_type": "code",
   "execution_count": 193,
   "metadata": {},
   "outputs": [],
   "source": [
    "products = order[order.tech.isin([\n",
    "    'Фиброгипс',\n",
    "    'Отливка',\n",
    "    'Протяжка',\n",
    "    'Отливная тяга резина', \n",
    "    'Отливная тяга пластик'\n",
    "])][['item', 'itemId']].drop_duplicates()"
   ]
  },
  {
   "cell_type": "code",
   "execution_count": 194,
   "metadata": {},
   "outputs": [],
   "source": [
    "product_ids = \"'\" + \"', '\".join(products.itemId) + \"'\""
   ]
  },
  {
   "cell_type": "code",
   "execution_count": 195,
   "metadata": {},
   "outputs": [],
   "source": [
    "price_query = f'''\n",
    "-- all_prices_4.sql\n",
    "WITH d AS (\n",
    "    SELECT \n",
    "        CAST(items.[_IDRRef] AS uniqueidentifier) AS itemId\n",
    "        , items._Description AS Наименование\n",
    "        , CAST(DATEADD([YEAR], -2000, _Period) AS date) AS Дата\n",
    "        , ROW_NUMBER()  OVER (\n",
    "                                PARTITION BY \n",
    "--                                    CAST(items._Fld1527 AS int)  -- артикул\n",
    "                                    items.[_IDRRef]\n",
    "                                    , price_types._Description      -- ВидЦены\n",
    "                                ORDER BY \n",
    "                                    CAST(DATEADD([YEAR], -2000, _Period) AS date) DESC  -- Дата\n",
    "--                                ROWS BETWEEN UNBOUNDED PRECEDING AND UNBOUNDED FOLLOWING\n",
    "                                )\n",
    "            AS row_num\n",
    "        , prices._Fld7568 AS Цена\n",
    "        , price_types._Description AS ВидЦены\n",
    "    FROM _InfoRg7564 AS prices\n",
    "        LEFT JOIN _Reference36 AS price_types ON prices._Fld7565RRef = price_types._IDRRef\n",
    "        LEFT JOIN _Reference76 AS items ON prices._Fld7566RRef = items._IDRRef\n",
    "        LEFT JOIN _Reference79 as tech ON items._Fld1533RRef = tech._IDRRef \n",
    "        LEFT JOIN _Reference68 AS partners ON items._Fld16820RRef = partners._IDRRef\n",
    "    WHERE\n",
    "        price_types._Description IN ('Исполнитель', '{price_type}')\n",
    "        AND (\n",
    "            CAST(items._IDRRef AS uniqueidentifier) IN ({product_ids})\n",
    "            OR CAST(items._Fld1527 AS int) = 200032    -- артикул шаблона\n",
    "        )\n",
    ") \n",
    "SELECT \n",
    "    Наименование\n",
    "    , itemId\n",
    "    , Дата\n",
    "    , ВидЦены\n",
    "    , Цена\n",
    "FROM d\n",
    "WHERE row_num = 1\n",
    "ORDER BY Наименование, ВидЦены\n",
    "'''\n",
    "\n",
    "prices = pd.read_sql(price_query, engine_unf)"
   ]
  },
  {
   "cell_type": "code",
   "execution_count": 196,
   "metadata": {},
   "outputs": [],
   "source": [
    "specs_list = list(order.specId.unique())\n",
    "specs_list = [spec for spec in specs_list if pd.notnull(spec)]\n",
    "specs_list = \"', '\".join(specs_list)\n",
    "specs_query = f'''\n",
    "-- complex_specs.sql\n",
    "SELECT \n",
    "    specs._Description AS spec\n",
    "    , CAST(specs._IDRRef AS uniqueidentifier) AS specId\n",
    "    , parent._Description AS owner\n",
    "    , CAST(parent._IDRRef AS uniqueidentifier) AS ownerId\n",
    "    , parent_tech._Description AS ownerTech\n",
    "    , CAST(_LineNo16156 AS int) AS specLineNo\n",
    "    , CAST(component._IDRRef AS uniqueidentifier) AS componentId\n",
    "    , component._Description AS component\n",
    "    , component_tech._Description AS componentTech\n",
    "    , components_list._Fld36159 AS rate\n",
    "FROM \n",
    "    _Reference16144 AS specs\n",
    "    LEFT JOIN _Reference76 AS parent ON specs._Fld16369RRef = parent._IDRRef\n",
    "    LEFT JOIN _Reference79 AS parent_tech ON parent._Fld1533RRef = parent_tech._IDRRef\n",
    "    LEFT JOIN _Reference16144_VT16155 AS components_list \n",
    "            ON components_list._Reference16144_IDRRef  = specs._IDRRef\n",
    "    LEFT JOIN _Reference76 AS component ON components_list._Fld16157_RRRef = component._IDRRef\n",
    "    LEFT JOIN _Reference79 AS component_tech ON component._Fld1533RRef = component_tech._IDRRef\n",
    "WHERE \n",
    "    CAST(specs.[_IDRRef] AS uniqueidentifier) IN ('{specs_list}')\n",
    "ORDER BY \n",
    "    CAST(specs.[_Code] AS int)\n",
    "    , CAST(components_list._LineNo16156 AS int)   -- specLineNo\n",
    "'''\n",
    "\n",
    "specs = pd.read_sql(specs_query, engine_unf)"
   ]
  },
  {
   "cell_type": "code",
   "execution_count": 197,
   "metadata": {},
   "outputs": [],
   "source": [
    "def get_rate(row):\n",
    "    try:\n",
    "        if row.tech in [\"Фиброгипс\", \"Протяжка\", \"Отливка\", \"Шаблон\",\n",
    "                \"Отливная тяга резина\", \"Отливная тяга пластик\"]:   \n",
    "            rate = prices[\n",
    "                (prices.itemId==row.itemId) &\n",
    "                (prices.ВидЦены==\"Исполнитель\")\n",
    "            ].Цена.values[0]\n",
    "            return rate\n",
    "        \n",
    "        return specs[(row.itemId==specs.componentId) & (row.specId==specs.specId)].rate.values[0]\n",
    "    except Exception as e:\n",
    "        print(e)\n",
    "        raise e\n",
    "\n",
    "order['rate'] = order.apply(get_rate, axis=1)"
   ]
  },
  {
   "cell_type": "code",
   "execution_count": 198,
   "metadata": {},
   "outputs": [],
   "source": [
    "order['budget'] = order.rate * order.qty"
   ]
  },
  {
   "cell_type": "code",
   "execution_count": 199,
   "metadata": {},
   "outputs": [],
   "source": [
    "assert len(order[(order.budget.isnull()) | (order.budget==0)])==0, 'Not all order row budget calculated.'"
   ]
  },
  {
   "cell_type": "markdown",
   "metadata": {},
   "source": [
    "# Execution (Job Tickets)"
   ]
  },
  {
   "cell_type": "code",
   "execution_count": 200,
   "metadata": {},
   "outputs": [],
   "source": [
    "prod_ids = list(prods.prodId.values)\n",
    "prod_ids = \"', '\".join(prod_ids)\n",
    "jobs_query = f'''\n",
    "-- @job_tickets_tables.sql\n",
    "-- pulls & castings shops pay monthly\n",
    "SELECT\n",
    "    CAST(DATEADD([YEAR], -2000, ticket._Date_Time) AS date) AS jobDate,\n",
    "    ticket._Number AS job,\n",
    "    prod_order.[_Number] AS prodOrderNo,\n",
    "    CAST(prod_order.[_IDRRef] AS uniqueidentifier) AS prodOrderId,\n",
    "    item._Description AS item,\n",
    "    CAST(item._IDRRef AS uniqueidentifier) AS itemId,\n",
    "    owner.[_Description] AS owner,\n",
    "    CAST(owner._IDRRef AS uniqueidentifier) AS ownerId,\n",
    "    tech._Description AS tech,\n",
    "    CAST(tbl._Fld5276RRef AS uniqueidentifier) AS batchId,\n",
    "    tbl._Fld5271 AS quantity,\n",
    "    tbl.[_Fld5273] AS rate,\n",
    "    CAST(tbl._Fld5275 AS float) AS pay\n",
    "FROM \n",
    "    _Document209 ticket \n",
    "    LEFT JOIN _Document209_VT5262 tbl ON ticket._IDRRef = tbl._Document209_IDRRef\n",
    "    LEFT JOIN _Reference76 item ON tbl._Fld5266RRef = item._IDRRef\n",
    "    LEFT JOIN _Reference79 tech ON tech._IDRRef = item._Fld1533RRef\n",
    "    LEFT JOIN _Document163 prod_order ON prod_order._IDRRef = ticket._Fld16366RRef\n",
    "    LEFT JOIN _Document163_VT3562 AS prod_tables \n",
    "        ON prod_order._IDRRef = prod_tables._Document163_IDRRef\n",
    "        AND tbl._LineNo5263 = prod_tables._LineNo3563\n",
    "    LEFT JOIN _Reference76 owner ON owner.[_IDRRef] = prod_tables._Fld33461RRef \n",
    "WHERE \n",
    "    CAST(ticket._Posted AS int) = 1\n",
    "    AND CAST(item._Fld1527 AS int) > 0     -- item_id\n",
    "    AND CAST(ticket._Fld16366RRef AS uniqueidentifier) IN ('{prod_ids}')\n",
    "'''\n",
    "jobs = pd.read_sql(jobs_query, engine_unf)"
   ]
  },
  {
   "cell_type": "code",
   "execution_count": 201,
   "metadata": {},
   "outputs": [],
   "source": [
    "assert sum(jobs.batchId.isnull()) == 0, 'Job tickets missing batch.'"
   ]
  },
  {
   "cell_type": "code",
   "execution_count": 202,
   "metadata": {},
   "outputs": [],
   "source": [
    "assert sum(jobs.prodOrderId.isnull()) == 0, 'Production order is missing in Job ticket.'"
   ]
  },
  {
   "cell_type": "code",
   "execution_count": 203,
   "metadata": {},
   "outputs": [],
   "source": [
    "def get_order_row(prodId):\n",
    "    prod = prods[prods.prodId==prodId]\n",
    "    if len(prod) > 0:\n",
    "        if pd.notnull(prod.orderRowNo.values[0]):\n",
    "            return prod.orderRowNo.values[0]\n",
    "        if pd.notnull(prod.orderRowNo_parent.values[0]):\n",
    "            return prod.orderRowNo_parent.values[0]\n",
    "        return get_order_row(prod.parentProdId.values[0])\n",
    "\n",
    "jobs['orderRowNo'] = jobs.prodOrderId.apply(get_order_row)"
   ]
  },
  {
   "cell_type": "code",
   "execution_count": 204,
   "metadata": {},
   "outputs": [],
   "source": [
    "assert sum(jobs.orderRowNo.isnull())==0, 'Row no not assigned'"
   ]
  },
  {
   "cell_type": "code",
   "execution_count": 205,
   "metadata": {},
   "outputs": [],
   "source": [
    "def get_completion_date(row):\n",
    "    if row.tech in ['Модельные работы', 'Формовочные работы'] and row.prodStatus=='Завершен':\n",
    "        subset = jobs[jobs.prodOrderId==row.prodId]\n",
    "        if len(subset) > 0:\n",
    "            return jobs.jobDate.values[0]\n",
    "    return\n",
    "\n",
    "prods['completionDate'] = prods.apply(get_completion_date, axis=1)"
   ]
  },
  {
   "cell_type": "markdown",
   "metadata": {},
   "source": [
    "# Calc diff"
   ]
  },
  {
   "cell_type": "code",
   "execution_count": 206,
   "metadata": {},
   "outputs": [],
   "source": [
    "jobs_grouped = jobs.groupby(by='orderRowNo').agg('sum', numeric_only=True).pay"
   ]
  },
  {
   "cell_type": "code",
   "execution_count": 207,
   "metadata": {},
   "outputs": [],
   "source": [
    "order = order.merge(\n",
    "    jobs_grouped,\n",
    "    how='left',\n",
    "    left_on='orderRowNo',\n",
    "    right_index=True,\n",
    "    suffixes=('', '_jobs')\n",
    ")"
   ]
  },
  {
   "cell_type": "code",
   "execution_count": 208,
   "metadata": {},
   "outputs": [],
   "source": [
    "assert math.isclose(order.pay.sum(), jobs.pay.sum(), rel_tol=0.001), 'Jobs allocation error.'"
   ]
  },
  {
   "cell_type": "markdown",
   "metadata": {},
   "source": [
    "# Order Row Min Status"
   ]
  },
  {
   "cell_type": "code",
   "execution_count": 209,
   "metadata": {},
   "outputs": [],
   "source": [
    "row_min_status = prods[['orderRowNo', 'prodStatusCode']].groupby('orderRowNo').agg(min)"
   ]
  },
  {
   "cell_type": "code",
   "execution_count": 210,
   "metadata": {},
   "outputs": [],
   "source": [
    "order = order.merge(row_min_status, how='left', \n",
    "                    left_on='orderRowNo', right_index=True)\n",
    "order.rename(columns={'prodStatusCode': 'statusCode'}, inplace=True)"
   ]
  },
  {
   "cell_type": "code",
   "execution_count": 211,
   "metadata": {},
   "outputs": [],
   "source": [
    "order['status'] = order.statusCode.map(prod_status_codes_reverse)"
   ]
  },
  {
   "cell_type": "code",
   "execution_count": 212,
   "metadata": {},
   "outputs": [
    {
     "data": {
      "text/plain": [
       "-1"
      ]
     },
     "execution_count": 212,
     "metadata": {},
     "output_type": "execute_result"
    }
   ],
   "source": [
    "order.to_sql(\n",
    "    name='orderBudgetRpt',\n",
    "    con=engine_analytics,\n",
    "    if_exists='replace',\n",
    "    index=False\n",
    ")"
   ]
  },
  {
   "cell_type": "markdown",
   "metadata": {},
   "source": [
    "# Actual Cost of Work Performed (ACWP)"
   ]
  },
  {
   "cell_type": "code",
   "execution_count": 213,
   "metadata": {},
   "outputs": [],
   "source": [
    "acwp = jobs[['jobDate', 'pay']].groupby('jobDate').agg('sum')"
   ]
  },
  {
   "cell_type": "code",
   "execution_count": 214,
   "metadata": {},
   "outputs": [],
   "source": [
    "acwp.rename(columns={'pay': 'acwp'}, inplace=True)"
   ]
  },
  {
   "cell_type": "code",
   "execution_count": 215,
   "metadata": {},
   "outputs": [
    {
     "data": {
      "text/plain": [
       "-1"
      ]
     },
     "execution_count": 215,
     "metadata": {},
     "output_type": "execute_result"
    }
   ],
   "source": [
    "acwp.to_sql(\n",
    "    name='orderAcwp',\n",
    "    con=engine_analytics,\n",
    "    if_exists='replace'\n",
    ")"
   ]
  },
  {
   "cell_type": "markdown",
   "metadata": {},
   "source": [
    "# Budgeted Cost of Work Performed (BCWP)\n",
    "\n",
    "Only production orders directly subordinated to customer order rows count.  \n",
    "\n",
    "If MFR production order is not in `Completed` status then MFR considered incomplete in whole.  \n",
    "For completed MFR completion date is the date of directly subordinated job ticket.  \n",
    "\n",
    "Products can be partially completed based on the number of units billed over total  \n",
    "number of units in the customer order row.  \n",
    "For products completion date is not calculated in general. Rather there are  \n",
    "multiple dates with partial job tickets.\n",
    "\n",
    "Output:\n",
    "| calendarDate | BCWS | BCWS cumulative |\n",
    "|--------------|------|-----------------|"
   ]
  },
  {
   "cell_type": "code",
   "execution_count": 216,
   "metadata": {},
   "outputs": [],
   "source": [
    "calendar_query = '''\n",
    "  SELECT \n",
    "    CAST(DATEADD([YEAR], -2000, _Fld6647) AS date) date\n",
    "    --, CAST(_Fld6649RRef AS uniqueidentifier) AS ВидДня\n",
    "    , CASE\n",
    "        WHEN CAST(_Fld6649RRef AS uniqueidentifier) IN ('DE79BA8C-92F0-7714-4F63-B787C3B5C81F', '9031DDB1-C61A-DC1C-4A16-97C6C8B0A1BE') THEN 1\n",
    "        ELSE 0\n",
    "    END AS isWorkDay\n",
    "  FROM _InfoRg6645\n",
    "  WHERE _Fld6648 BETWEEN 2022 AND 2025   -- year\n",
    "'''\n",
    "calendar = pd.read_sql(calendar_query, engine_unf)"
   ]
  },
  {
   "cell_type": "code",
   "execution_count": 217,
   "metadata": {},
   "outputs": [],
   "source": [
    "bcwp_mfr = order[[\n",
    "    'orderRowNo',\n",
    "    'tech',\n",
    "    'spec',\n",
    "    'item',\n",
    "    'qty',\n",
    "    'budget',\n",
    "    'statusCode'\n",
    "]]\n",
    "bcwp_mfr = bcwp_mfr[bcwp_mfr.tech.isin(['Шаблон', 'Модельные работы', 'Формовочные работы'])]"
   ]
  },
  {
   "cell_type": "code",
   "execution_count": 218,
   "metadata": {},
   "outputs": [],
   "source": [
    "directly_subordinated_prods = prods[\n",
    "    (prods.orderRowNo.isin(bcwp_mfr.orderRowNo)) \n",
    "    & (prods.parentProdId.isnull())\n",
    "    & (prods.posted==1)\n",
    "]\n",
    "direct_grouped = directly_subordinated_prods[['prodNo', 'orderRowNo']]\\\n",
    "                        .groupby('orderRowNo').agg('count')\n",
    "\n",
    "assert sum(direct_grouped.prodNo!=1) == 0, \\\n",
    "    'More than one production orders directly subordinated to a row in the customer order.'"
   ]
  },
  {
   "cell_type": "code",
   "execution_count": 219,
   "metadata": {},
   "outputs": [],
   "source": [
    "def get_mfr_bcwp(row):\n",
    "    if row.tech in [\"Модельные работы\", \"Формовочные работы\", \"Шаблон\"]:\n",
    "        direct_prods = prods[\n",
    "            (prods.orderRowNo==row.orderRowNo) \n",
    "            & (prods.parentProdId.isnull())\n",
    "            & (prods.posted==1)        \n",
    "        ]\n",
    "\n",
    "        if len(direct_prods) == 0:\n",
    "            return \n",
    "\n",
    "        if direct_prods.prodStatus.values[0] not in [\"Завершен\", \"На стеллажах\", \"Отгружен\"]:     \n",
    "            return \n",
    "\n",
    "        prod_id = direct_prods.prodId.values[0]\n",
    "\n",
    "        # chk directly subordinated job tickets\n",
    "        subset = jobs[(jobs.prodOrderId==prod_id)]\n",
    "        if len(subset) > 0:\n",
    "            job_completion_date = subset.jobDate.max()\n",
    "            return job_completion_date\n",
    "        \n",
    "        # else look for subordinated prod orders and their job tickets\n",
    "        sub_prods = prods[\n",
    "            (prods.parentProdId.isin(direct_prods.prodId)) &\n",
    "            (prods.posted==1)\n",
    "        ]\n",
    "        \n",
    "        subset = jobs[jobs.prodOrderId.isin(sub_prods.prodId.values)]\n",
    "\n",
    "        if len(subset) > 0:\n",
    "            job_completion_date = subset.jobDate.max()\n",
    "            return job_completion_date\n",
    "    else:\n",
    "        return\n",
    "\n",
    "\n",
    "bcwp_mfr['date'] = bcwp_mfr.apply(get_mfr_bcwp, axis=1)\n",
    "bcwp_mfr = bcwp_mfr[bcwp_mfr.date.notnull()]"
   ]
  },
  {
   "cell_type": "code",
   "execution_count": 220,
   "metadata": {},
   "outputs": [
    {
     "data": {
      "text/html": [
       "<div>\n",
       "<style scoped>\n",
       "    .dataframe tbody tr th:only-of-type {\n",
       "        vertical-align: middle;\n",
       "    }\n",
       "\n",
       "    .dataframe tbody tr th {\n",
       "        vertical-align: top;\n",
       "    }\n",
       "\n",
       "    .dataframe thead th {\n",
       "        text-align: right;\n",
       "    }\n",
       "</style>\n",
       "<table border=\"1\" class=\"dataframe\">\n",
       "  <thead>\n",
       "    <tr style=\"text-align: right;\">\n",
       "      <th></th>\n",
       "      <th>orderRowNo</th>\n",
       "      <th>tech</th>\n",
       "      <th>spec</th>\n",
       "      <th>item</th>\n",
       "      <th>qty</th>\n",
       "      <th>budget</th>\n",
       "      <th>statusCode</th>\n",
       "      <th>date</th>\n",
       "    </tr>\n",
       "  </thead>\n",
       "  <tbody>\n",
       "    <tr>\n",
       "      <th>1</th>\n",
       "      <td>2</td>\n",
       "      <td>Модельные работы</td>\n",
       "      <td>иДс-6432 СФГ часть 1</td>\n",
       "      <td>МР Сложная/мелкая геометрия</td>\n",
       "      <td>1.0</td>\n",
       "      <td>73594.0</td>\n",
       "      <td>5.0</td>\n",
       "      <td>2022-08-31</td>\n",
       "    </tr>\n",
       "    <tr>\n",
       "      <th>4</th>\n",
       "      <td>5</td>\n",
       "      <td>Модельные работы</td>\n",
       "      <td>иДс-6432 СФГ часть 2</td>\n",
       "      <td>МР Сложная/мелкая геометрия</td>\n",
       "      <td>1.0</td>\n",
       "      <td>10420.0</td>\n",
       "      <td>5.0</td>\n",
       "      <td>2022-08-31</td>\n",
       "    </tr>\n",
       "    <tr>\n",
       "      <th>7</th>\n",
       "      <td>8</td>\n",
       "      <td>Модельные работы</td>\n",
       "      <td>иДс-6433 СФГ часть 1</td>\n",
       "      <td>МР Сложная/мелкая геометрия</td>\n",
       "      <td>1.0</td>\n",
       "      <td>55595.0</td>\n",
       "      <td>5.0</td>\n",
       "      <td>2022-08-31</td>\n",
       "    </tr>\n",
       "    <tr>\n",
       "      <th>8</th>\n",
       "      <td>9</td>\n",
       "      <td>Формовочные работы</td>\n",
       "      <td>иДс-6433 СФГ часть 1</td>\n",
       "      <td>ФР Тариф 3, без фанеры (площадь более либо рав...</td>\n",
       "      <td>1.0</td>\n",
       "      <td>15443.0</td>\n",
       "      <td>5.0</td>\n",
       "      <td>2022-10-31</td>\n",
       "    </tr>\n",
       "    <tr>\n",
       "      <th>10</th>\n",
       "      <td>11</td>\n",
       "      <td>Модельные работы</td>\n",
       "      <td>иДс-6433 СФГ часть 2</td>\n",
       "      <td>МР Сложная/мелкая геометрия</td>\n",
       "      <td>1.0</td>\n",
       "      <td>10819.0</td>\n",
       "      <td>5.0</td>\n",
       "      <td>2022-08-31</td>\n",
       "    </tr>\n",
       "  </tbody>\n",
       "</table>\n",
       "</div>"
      ],
      "text/plain": [
       "    orderRowNo                tech                  spec  \\\n",
       "1            2    Модельные работы  иДс-6432 СФГ часть 1   \n",
       "4            5    Модельные работы  иДс-6432 СФГ часть 2   \n",
       "7            8    Модельные работы  иДс-6433 СФГ часть 1   \n",
       "8            9  Формовочные работы  иДс-6433 СФГ часть 1   \n",
       "10          11    Модельные работы  иДс-6433 СФГ часть 2   \n",
       "\n",
       "                                                 item  qty   budget  \\\n",
       "1                         МР Сложная/мелкая геометрия  1.0  73594.0   \n",
       "4                         МР Сложная/мелкая геометрия  1.0  10420.0   \n",
       "7                         МР Сложная/мелкая геометрия  1.0  55595.0   \n",
       "8   ФР Тариф 3, без фанеры (площадь более либо рав...  1.0  15443.0   \n",
       "10                        МР Сложная/мелкая геометрия  1.0  10819.0   \n",
       "\n",
       "    statusCode        date  \n",
       "1          5.0  2022-08-31  \n",
       "4          5.0  2022-08-31  \n",
       "7          5.0  2022-08-31  \n",
       "8          5.0  2022-10-31  \n",
       "10         5.0  2022-08-31  "
      ]
     },
     "execution_count": 220,
     "metadata": {},
     "output_type": "execute_result"
    }
   ],
   "source": [
    "bcwp_mfr.head()"
   ]
  },
  {
   "cell_type": "code",
   "execution_count": 221,
   "metadata": {},
   "outputs": [
    {
     "name": "stderr",
     "output_type": "stream",
     "text": [
      "C:\\Users\\kan\\AppData\\Local\\Temp\\ipykernel_19740\\3766464463.py:2: SettingWithCopyWarning: \n",
      "A value is trying to be set on a copy of a slice from a DataFrame\n",
      "\n",
      "See the caveats in the documentation: https://pandas.pydata.org/pandas-docs/stable/user_guide/indexing.html#returning-a-view-versus-a-copy\n",
      "  bcwp_products.rename(columns={'jobDate': 'date'}, inplace=True)\n"
     ]
    }
   ],
   "source": [
    "bcwp_products = jobs[jobs.tech.isin([\"Фиброгипс\", \"Протяжка\"])]\n",
    "bcwp_products.rename(columns={'jobDate': 'date'}, inplace=True)"
   ]
  },
  {
   "cell_type": "code",
   "execution_count": 222,
   "metadata": {},
   "outputs": [],
   "source": [
    "bcwp = pd.concat([bcwp_mfr[['date', 'budget']], bcwp_products[['date', 'quantity', 'rate']]])"
   ]
  },
  {
   "cell_type": "code",
   "execution_count": 223,
   "metadata": {},
   "outputs": [],
   "source": [
    "bcwp.budget = bcwp.apply(lambda r: r.budget if pd.notnull(r.budget)\n",
    "                         else r.quantity * r.rate, axis=1)"
   ]
  },
  {
   "cell_type": "code",
   "execution_count": 224,
   "metadata": {},
   "outputs": [],
   "source": [
    "bcwp = bcwp[['date', 'budget']]\n",
    "bcwp.rename(columns={'budget': 'bcwp'}, inplace=True)"
   ]
  },
  {
   "cell_type": "code",
   "execution_count": 225,
   "metadata": {},
   "outputs": [],
   "source": [
    "bcwp = bcwp.groupby('date').agg('sum')"
   ]
  },
  {
   "cell_type": "code",
   "execution_count": 228,
   "metadata": {},
   "outputs": [],
   "source": [
    "bcwp['bcwp_acc'] = bcwp.bcwp.cumsum()"
   ]
  },
  {
   "cell_type": "code",
   "execution_count": 231,
   "metadata": {},
   "outputs": [
    {
     "data": {
      "text/plain": [
       "-1"
      ]
     },
     "execution_count": 231,
     "metadata": {},
     "output_type": "execute_result"
    }
   ],
   "source": [
    "bcwp.to_sql(\n",
    "    name='orderBcwp',\n",
    "    con=engine_analytics,\n",
    "    if_exists='replace'\n",
    ")"
   ]
  },
  {
   "cell_type": "markdown",
   "metadata": {},
   "source": [
    "# Output"
   ]
  },
  {
   "cell_type": "code",
   "execution_count": 41,
   "metadata": {},
   "outputs": [
    {
     "data": {
      "text/plain": [
       "'output.gv.pdf'"
      ]
     },
     "execution_count": 41,
     "metadata": {},
     "output_type": "execute_result"
    }
   ],
   "source": [
    "f = graphviz.Digraph(filename=\"output.gv\")\n",
    "f.attr(rankdir='LR')  \n",
    "for _, r in prods.sort_values(by='orderRowNo', ascending=False).iterrows():\n",
    "    match r.tech:\n",
    "        case 'Фиброгипс':\n",
    "            f.attr('node', shape='box')\n",
    "        case 'Модельные работы':\n",
    "            f.attr('node', shape='cds')\n",
    "        case 'Формовочные работы':\n",
    "            f.attr('node', shape='octagon')\n",
    "        case 'Шаблон':\n",
    "            f.attr('node', shape='trapezium')\n",
    "        case 'Протяжка':\n",
    "            f.attr('node', shape='house')\n",
    "        case _:\n",
    "            f.attr('node', shape='')\n",
    "\n",
    "    if pd.notnull(r.orderRowNo):\n",
    "        f.attr('node', style='filled', fillcolor='lightblue')\n",
    "    else:\n",
    "        f.attr('node', style='', fillcolor='')\n",
    "    label = (\n",
    "            (f'c.{r.orderRowNo:.0f}\\n' if pd.notnull(r.orderRowNo) else '') +\n",
    "            f'{r.prodNo}\\n' +\n",
    "            (f'{r.spec}' if pd.notnull(r.spec) else '---') +\n",
    "            f'\\n{r[\"item\"]}'\n",
    "    )\n",
    "    f.node(r.prodNo, label)\n",
    "for _, r in prods[prods.parentProdNo.notnull()].iterrows():\n",
    "    if (\n",
    "            r.parentTech == 'Фиброгипс' \n",
    "            and r.tech in ['Модельные работы', 'Формовочные работы']\n",
    "    ): continue\n",
    "    f.edge(r.parentProdNo, r.prodNo)\n",
    "\n",
    "f.render()"
   ]
  },
  {
   "cell_type": "code",
   "execution_count": null,
   "metadata": {},
   "outputs": [],
   "source": []
  }
 ],
 "metadata": {
  "kernelspec": {
   "display_name": "Python 3.10.8 ('venv': venv)",
   "language": "python",
   "name": "python3"
  },
  "language_info": {
   "codemirror_mode": {
    "name": "ipython",
    "version": 3
   },
   "file_extension": ".py",
   "mimetype": "text/x-python",
   "name": "python",
   "nbconvert_exporter": "python",
   "pygments_lexer": "ipython3",
   "version": "3.10.8"
  },
  "orig_nbformat": 4,
  "vscode": {
   "interpreter": {
    "hash": "9218a80a35e99f1aada1a570fc90d44bc4a3d0106eacfed361c13dc585525dde"
   }
  }
 },
 "nbformat": 4,
 "nbformat_minor": 2
}
